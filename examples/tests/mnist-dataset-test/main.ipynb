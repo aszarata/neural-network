{
 "cells": [
  {
   "cell_type": "markdown",
   "metadata": {},
   "source": [
    "# Network test on mnist dataset"
   ]
  },
  {
   "cell_type": "markdown",
   "metadata": {},
   "source": [
    "This notebook contains the code for training the model using the MNIST dataset stored in .parquet format. This dataset consists of handwritten digit images, which are widely used for training and testing machine learning models in the field of image recognition."
   ]
  },
  {
   "cell_type": "code",
   "execution_count": 107,
   "metadata": {},
   "outputs": [],
   "source": [
    "import pandas as pd\n",
    "import numpy as np\n",
    "import matplotlib.pyplot as plt\n",
    "import cv2"
   ]
  },
  {
   "cell_type": "markdown",
   "metadata": {},
   "source": [
    "### Data import"
   ]
  },
  {
   "cell_type": "code",
   "execution_count": 108,
   "metadata": {},
   "outputs": [],
   "source": [
    "def bytes_to_pixels(image):\n",
    "    image_bytes = image['bytes']\n",
    "    image_array = np.frombuffer(image_bytes, dtype=np.uint8)\n",
    "    image = cv2.imdecode(image_array, cv2.IMREAD_GRAYSCALE)\n",
    "    pixel_values = image.flatten()\n",
    "    return pixel_values"
   ]
  },
  {
   "cell_type": "code",
   "execution_count": 109,
   "metadata": {},
   "outputs": [],
   "source": [
    "training_data_path = 'train.parquet'\n",
    "test_data_path = 'test.parquet'"
   ]
  },
  {
   "cell_type": "code",
   "execution_count": 110,
   "metadata": {},
   "outputs": [],
   "source": [
    "percentage_of_dataset = 1"
   ]
  },
  {
   "cell_type": "code",
   "execution_count": 111,
   "metadata": {},
   "outputs": [
    {
     "name": "stdout",
     "output_type": "stream",
     "text": [
      "                                                   image  label\n",
      "0      {'bytes': b'\\x89PNG\\r\\n\\x1a\\n\\x00\\x00\\x00\\rIHD...      5\n",
      "1      {'bytes': b'\\x89PNG\\r\\n\\x1a\\n\\x00\\x00\\x00\\rIHD...      0\n",
      "2      {'bytes': b'\\x89PNG\\r\\n\\x1a\\n\\x00\\x00\\x00\\rIHD...      4\n",
      "3      {'bytes': b\"\\x89PNG\\r\\n\\x1a\\n\\x00\\x00\\x00\\rIHD...      1\n",
      "4      {'bytes': b'\\x89PNG\\r\\n\\x1a\\n\\x00\\x00\\x00\\rIHD...      9\n",
      "...                                                  ...    ...\n",
      "59995  {'bytes': b'\\x89PNG\\r\\n\\x1a\\n\\x00\\x00\\x00\\rIHD...      8\n",
      "59996  {'bytes': b'\\x89PNG\\r\\n\\x1a\\n\\x00\\x00\\x00\\rIHD...      3\n",
      "59997  {'bytes': b'\\x89PNG\\r\\n\\x1a\\n\\x00\\x00\\x00\\rIHD...      5\n",
      "59998  {'bytes': b'\\x89PNG\\r\\n\\x1a\\n\\x00\\x00\\x00\\rIHD...      6\n",
      "59999  {'bytes': b'\\x89PNG\\r\\n\\x1a\\n\\x00\\x00\\x00\\rIHD...      8\n",
      "\n",
      "[60000 rows x 2 columns]\n"
     ]
    }
   ],
   "source": [
    "df1 = pd.read_parquet(training_data_path)\n",
    "\n",
    "print(df1)"
   ]
  },
  {
   "cell_type": "code",
   "execution_count": 112,
   "metadata": {},
   "outputs": [
    {
     "name": "stdout",
     "output_type": "stream",
     "text": [
      "                                                  pixels  label\n",
      "0      [0, 0, 0, 0, 0, 0, 0, 0, 0, 0, 0, 0, 0, 0, 0, ...      5\n",
      "1      [0, 0, 0, 0, 0, 0, 0, 0, 0, 0, 0, 0, 0, 0, 0, ...      0\n",
      "2      [0, 0, 0, 0, 0, 0, 0, 0, 0, 0, 0, 0, 0, 0, 0, ...      4\n",
      "3      [0, 0, 0, 0, 0, 0, 0, 0, 0, 0, 0, 0, 0, 0, 0, ...      1\n",
      "4      [0, 0, 0, 0, 0, 0, 0, 0, 0, 0, 0, 0, 0, 0, 0, ...      9\n",
      "...                                                  ...    ...\n",
      "69995  [0, 0, 0, 0, 0, 0, 0, 0, 0, 0, 0, 0, 0, 0, 0, ...      2\n",
      "69996  [0, 0, 0, 0, 0, 0, 0, 0, 0, 0, 0, 0, 0, 0, 0, ...      3\n",
      "69997  [0, 0, 0, 0, 0, 0, 0, 0, 0, 0, 0, 0, 0, 0, 0, ...      4\n",
      "69998  [0, 0, 0, 0, 0, 0, 0, 0, 0, 0, 0, 0, 0, 0, 0, ...      5\n",
      "69999  [0, 0, 0, 0, 0, 0, 0, 0, 0, 0, 0, 0, 0, 0, 0, ...      6\n",
      "\n",
      "[70000 rows x 2 columns]\n"
     ]
    }
   ],
   "source": [
    "df1['pixels'] = df1['image'].apply(bytes_to_pixels)\n",
    "\n",
    "df2 = pd.read_parquet(test_data_path)\n",
    "\n",
    "df2['pixels'] = df2['image'].apply(bytes_to_pixels)\n",
    "\n",
    "df = pd.concat([df1[: int(len(df1) * percentage_of_dataset)], df2[: int(len(df2) * percentage_of_dataset)]], ignore_index=True)\n",
    "\n",
    "\n",
    "print(df[['pixels', 'label']])"
   ]
  },
  {
   "cell_type": "code",
   "execution_count": 113,
   "metadata": {},
   "outputs": [
    {
     "data": {
      "image/png": "[encoded data removed]",
      "text/plain": [
       "<Figure size 640x480 with 1 Axes>"
      ]
     },
     "metadata": {},
     "output_type": "display_data"
    }
   ],
   "source": [
    "def draw_from_pixels(img):\n",
    "    first_image_pixels = img\n",
    "    image_shape = (28, 28)  \n",
    "\n",
    "    image_array = np.array(first_image_pixels).reshape(image_shape)\n",
    "\n",
    "    plt.imshow(image_array, cmap='gray')\n",
    "    plt.show()\n",
    "\n",
    "draw_from_pixels(df.loc[1, 'pixels'])"
   ]
  },
  {
   "cell_type": "markdown",
   "metadata": {},
   "source": [
    "## Dataset initialisation"
   ]
  },
  {
   "cell_type": "code",
   "execution_count": 114,
   "metadata": {},
   "outputs": [
    {
     "name": "stderr",
     "output_type": "stream",
     "text": [
      "C:\\Users\\andrz\\AppData\\Local\\Packages\\PythonSoftwareFoundation.Python.3.11_qbz5n2kfra8p0\\LocalCache\\local-packages\\Python311\\site-packages\\sklearn\\preprocessing\\_encoders.py:975: FutureWarning: `sparse` was renamed to `sparse_output` in version 1.2 and will be removed in 1.4. `sparse_output` is ignored unless you leave `sparse` to its default value.\n",
      "  warnings.warn(\n"
     ]
    },
    {
     "data": {
      "text/plain": [
       "((51771, 784), (51771, 10))"
      ]
     },
     "execution_count": 114,
     "metadata": {},
     "output_type": "execute_result"
    }
   ],
   "source": [
    "from sklearn.model_selection import train_test_split\n",
    "from sklearn.preprocessing import  OneHotEncoder\n",
    "\n",
    "\n",
    "X = df[['pixels', 'label']].copy()\n",
    "\n",
    "y = (X.pop('label')).astype(int).values.reshape(-1, 1)\n",
    "\n",
    "X = np.vstack(df['pixels'].values)\n",
    "\n",
    "train_valid_size = 0.14\n",
    "\n",
    "X_train, X_test, y_train, y_test = train_test_split(\n",
    "    X, y, \n",
    "    test_size=train_valid_size, \n",
    "    random_state=0, \n",
    "    shuffle=True, \n",
    "    stratify=y\n",
    ")\n",
    "X_train, X_valid, y_train, y_valid = train_test_split(\n",
    "    X_train, y_train, \n",
    "    test_size=train_valid_size, \n",
    "    random_state=0, \n",
    "    shuffle=True, \n",
    "    stratify=y_train\n",
    ")\n",
    "\n",
    "\n",
    "label_encoder = OneHotEncoder(sparse=False, handle_unknown='ignore')\n",
    "label_encoder.fit(y_train)\n",
    "\n",
    "y_train = label_encoder.transform(y_train)\n",
    "y_valid = label_encoder.transform(y_valid)\n",
    "y_test = label_encoder.transform(y_test)\n",
    "\n",
    "X_train.shape, y_train.shape"
   ]
  },
  {
   "cell_type": "markdown",
   "metadata": {},
   "source": [
    "## Multilayer neural network"
   ]
  },
  {
   "cell_type": "code",
   "execution_count": 115,
   "metadata": {},
   "outputs": [],
   "source": [
    "import sys\n",
    "sys.path.append('../../../network') \n",
    "\n",
    "from network import Network\n",
    "from layer import Layer"
   ]
  },
  {
   "cell_type": "code",
   "execution_count": 116,
   "metadata": {},
   "outputs": [],
   "source": [
    "learning_rate = 1e-3\n",
    "input_size = X_train.shape[1]\n",
    "output_size = y_train.shape[1]\n",
    "\n",
    "early_stopping_patience = 50\n",
    "\n",
    "model = Network()\n",
    "\n",
    "model.add_layer(Layer(input_size, 128, activation_function='relu', batch_norm_1d_size=128))\n",
    "model.add_layer(Layer(128, 128, activation_function='relu', batch_norm_1d_size=128))\n",
    "model.add_layer(Layer(128, output_size, activation_function='softmax'))\n",
    "\n",
    "model.early_stopping(early_stopping_patience=early_stopping_patience)"
   ]
  },
  {
   "cell_type": "code",
   "execution_count": 117,
   "metadata": {},
   "outputs": [
    {
     "name": "stdout",
     "output_type": "stream",
     "text": [
      "Epoch 0: loss = 0.09603079612056095\n",
      "Epoch 10: loss = 0.026659676833170155\n",
      "Epoch 20: loss = 0.02876126392894679\n",
      "Epoch 30: loss = 0.021168119690325227\n",
      "Epoch 40: loss = 0.023797063930470326\n",
      "Epoch 50: loss = 0.01661161654206659\n",
      "Epoch 60: loss = 0.018215692500242128\n",
      "Epoch 70: loss = 0.021363311506441822\n",
      "Epoch 80: loss = 0.014629811053015099\n",
      "Epoch 90: loss = 0.01366788356415754\n",
      "Epoch 100: loss = 0.013409051399428941\n",
      "Epoch 110: loss = 0.01849297858718045\n",
      "Epoch 120: loss = 0.011292036081976464\n",
      "Epoch 130: loss = 0.01421645322670993\n",
      "Epoch 140: loss = 0.012632554905241282\n",
      "Epoch 150: loss = 0.015267234552162407\n",
      "Epoch 160: loss = 0.011886963744181104\n",
      "Epoch 170: loss = 0.01230418574105194\n",
      "Epoch 180: loss = 0.011334530914977142\n",
      "Epoch 190: loss = 0.011543141913426435\n",
      "Epoch 200: loss = 0.010272160089625466\n",
      "Epoch 210: loss = 0.010469181588147804\n",
      "Epoch 220: loss = 0.010113770251629243\n",
      "Epoch 230: loss = 0.010013327924899949\n",
      "Epoch 240: loss = 0.010465318421510111\n",
      "Epoch 250: loss = 0.010932761584670958\n",
      "Epoch 260: loss = 0.011767205839983124\n",
      "Epoch 270: loss = 0.010075138591103127\n",
      "Epoch 280: loss = 0.009684959687745312\n",
      "Epoch 290: loss = 0.010716424252960152\n"
     ]
    }
   ],
   "source": [
    "model.fit(X=X_train, y=y_train, learning_rate=learning_rate, epochs=300, verbose=1, batch_size=256)"
   ]
  },
  {
   "cell_type": "code",
   "execution_count": 118,
   "metadata": {},
   "outputs": [
    {
     "name": "stdout",
     "output_type": "stream",
     "text": [
      "Accuracy: 0.9464340373431283\n",
      "Confusion Matrix:\n",
      "[[ 945    0    0    2    2    3    4    3    5    2]\n",
      " [   0 1040    5    3    1   15    0    9   27    3]\n",
      " [  13    1  928    6    5    2    4    6   11    3]\n",
      " [   2    0   12  902    0   45    4    8   13   14]\n",
      " [   0    0    7    0  894    1    7    6    1   39]\n",
      " [   6    0    2    3    0  853   10    1    5    4]\n",
      " [   9    2    2    0    9    4  927    0   10    0]\n",
      " [   2    0   14    4    5    0    0  991    1    4]\n",
      " [  19    2    5    7    2   11    3    7  886   14]\n",
      " [  10    1    2    9   12    4    0   21    5  910]]\n",
      "Classification Report:\n",
      "              precision    recall  f1-score   support\n",
      "\n",
      "           0       0.94      0.98      0.96       966\n",
      "           1       0.99      0.94      0.97      1103\n",
      "           2       0.95      0.95      0.95       979\n",
      "           3       0.96      0.90      0.93      1000\n",
      "           4       0.96      0.94      0.95       955\n",
      "           5       0.91      0.96      0.94       884\n",
      "           6       0.97      0.96      0.96       963\n",
      "           7       0.94      0.97      0.96      1021\n",
      "           8       0.92      0.93      0.92       956\n",
      "           9       0.92      0.93      0.93       974\n",
      "\n",
      "    accuracy                           0.95      9801\n",
      "   macro avg       0.95      0.95      0.95      9801\n",
      "weighted avg       0.95      0.95      0.95      9801\n",
      "\n",
      "AUROC: 97.03%\n"
     ]
    }
   ],
   "source": [
    "from sklearn.metrics import  roc_auc_score\n",
    "from sklearn.metrics import accuracy_score, confusion_matrix, classification_report\n",
    "\n",
    "\n",
    "y_pred_test_score = model.predict(X_test)\n",
    "\n",
    "auroc = roc_auc_score(y_test, y_pred_test_score)\n",
    "\n",
    "\n",
    "y_true_flat = np.argmax(y_test, axis=1)\n",
    "y_pred_flat = np.argmax(y_pred_test_score, axis=1)\n",
    "\n",
    "accuracy = accuracy_score(y_true_flat, y_pred_flat)\n",
    "conf_matrix = confusion_matrix(y_true_flat, y_pred_flat)\n",
    "classification_rep = classification_report(y_true_flat, y_pred_flat)\n",
    "\n",
    "print(f\"Accuracy: {accuracy}\")\n",
    "print(\"Confusion Matrix:\")\n",
    "print(conf_matrix)\n",
    "print(\"Classification Report:\")\n",
    "print(classification_rep)\n",
    "print(f\"AUROC: {100 * auroc:.2f}%\")"
   ]
  },
  {
   "cell_type": "markdown",
   "metadata": {},
   "source": [
    "### Save the model"
   ]
  },
  {
   "cell_type": "code",
   "execution_count": 128,
   "metadata": {},
   "outputs": [],
   "source": [
    "# path = '../../models/mnist1model.pickle'\n",
    "# model.save(path)"
   ]
  },
  {
   "cell_type": "markdown",
   "metadata": {},
   "source": [
    "## Tests on self drawn numbers"
   ]
  },
  {
   "cell_type": "code",
   "execution_count": 120,
   "metadata": {},
   "outputs": [],
   "source": [
    "def preprocess_image(image_path):\n",
    "    img = cv2.imread(image_path, cv2.IMREAD_GRAYSCALE)\n",
    "    \n",
    "    img_resized = cv2.resize(img, (28, 28))\n",
    "    \n",
    "    img_normalized = img_resized.astype('float32') / 255.0\n",
    "\n",
    "    img_input = img_normalized.flatten().reshape(1, -1)\n",
    "    \n",
    "    return img_input"
   ]
  },
  {
   "cell_type": "code",
   "execution_count": 125,
   "metadata": {},
   "outputs": [
    {
     "data": {
      "image/png": "[encoded data removed]",
      "text/plain": [
       "<Figure size 640x480 with 1 Axes>"
      ]
     },
     "metadata": {},
     "output_type": "display_data"
    },
    {
     "name": "stdout",
     "output_type": "stream",
     "text": [
      "[[1. 0. 0. 0. 0. 0. 0. 0. 0. 0.]]\n"
     ]
    }
   ],
   "source": [
    "image_path = 'my_data/01.png'\n",
    "number_px = preprocess_image(image_path)\n",
    "\n",
    "draw_from_pixels(number_px)\n",
    "\n",
    "number_pred = model.predict(number_px)\n",
    "print(np.round(number_pred, 2))"
   ]
  },
  {
   "cell_type": "code",
   "execution_count": 124,
   "metadata": {},
   "outputs": [
    {
     "data": {
      "image/png": "[encoded data removed]",
      "text/plain": [
       "<Figure size 640x480 with 1 Axes>"
      ]
     },
     "metadata": {},
     "output_type": "display_data"
    },
    {
     "name": "stdout",
     "output_type": "stream",
     "text": [
      "[[0. 0. 0. 0. 0. 0. 0. 0. 1. 0.]]\n"
     ]
    }
   ],
   "source": [
    "image_path = 'my_data/11.png'\n",
    "number_px = preprocess_image(image_path)\n",
    "\n",
    "draw_from_pixels(number_px)\n",
    "\n",
    "number_pred = model.predict(number_px)\n",
    "print(np.round(number_pred, decimals=0))"
   ]
  },
  {
   "cell_type": "code",
   "execution_count": 126,
   "metadata": {},
   "outputs": [
    {
     "data": {
      "image/png": "[encoded data removed]",
      "text/plain": [
       "<Figure size 640x480 with 1 Axes>"
      ]
     },
     "metadata": {},
     "output_type": "display_data"
    },
    {
     "name": "stdout",
     "output_type": "stream",
     "text": [
      "[[0. 0. 1. 0. 0. 0. 0. 0. 0. 0.]]\n"
     ]
    }
   ],
   "source": [
    "image_path = 'my_data/21.png'\n",
    "number_px = preprocess_image(image_path)\n",
    "\n",
    "draw_from_pixels(number_px)\n",
    "\n",
    "number_pred = model.predict(number_px)\n",
    "print(number_pred)"
   ]
  },
  {
   "cell_type": "code",
   "execution_count": null,
   "metadata": {},
   "outputs": [],
   "source": []
  }
 ],
 "metadata": {
  "kernelspec": {
   "display_name": "Python 3",
   "language": "python",
   "name": "python3"
  },
  "language_info": {
   "codemirror_mode": {
    "name": "ipython",
    "version": 3
   },
   "file_extension": ".py",
   "mimetype": "text/x-python",
   "name": "python",
   "nbconvert_exporter": "python",
   "pygments_lexer": "ipython3",
   "version": "3.11.9"
  }
 },
 "nbformat": 4,
 "nbformat_minor": 2
}
